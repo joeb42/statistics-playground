{
 "cells": [
  {
   "cell_type": "markdown",
   "metadata": {},
   "source": [
    "# The problem \n",
    "An ant leaves its anthill in order to forage for food. It moves with the speed of 10cm per second, but it doesn't know where to go, therefore every second it moves randomly 10cm directly north, south, east or west with equal probability.\n",
    "\n",
    "1. If the food is located on east-west lines 20cm to the north and 20cm to the south, as well as on north-south lines 20cm to the east and 20cm to the west from the anthill, how long will it take the ant to reach it on average?\n",
    "\n",
    "2. What is the average time the ant will reach food if it is located only on a diagonal line passing through (10cm, 0cm) and (0cm, 10cm) points?\n",
    "\n",
    "3. Can you write a program that comes up with an estimate of average time to find food for any closed boundary around the anthill? What would be the answer if food is located outside an defined by $((x – 2.5cm) / 30cm )^{2} + ( (y – 2.5cm) / 40cm )^{2} < 1$ in coordinate system where the anthill is located at (x = 0cm, y = 0cm)?\n",
    "\n"
   ]
  },
  {
   "cell_type": "code",
   "execution_count": 76,
   "metadata": {},
   "outputs": [],
   "source": [
    "from numpy.random import default_rng\n",
    "import matplotlib.pyplot as plt\n",
    "\n",
    "\n",
    "class Ant:\n",
    "    def __init__(self) -> None:\n",
    "        self.x: int = 0\n",
    "        self.y: int = 0\n",
    "        self.rng = default_rng()\n",
    "\n",
    "    def move(self) -> None:\n",
    "        move = self.rng.choice([\"N\", \"E\", \"S\", \"W\"])\n",
    "        if move == \"N\":\n",
    "            self.y += 10\n",
    "        if move == \"S\":\n",
    "            self.y -= 10\n",
    "        if move == \"E\":\n",
    "            self.x += 10\n",
    "        if move == \"W\":\n",
    "            self.x -= 10\n",
    "\n",
    "    def time_to_food(self) -> int:\n",
    "        seconds = 0\n",
    "        while (abs(self.x) < 20) and (abs(self.y) < 20):\n",
    "            seconds += 1\n",
    "            self.move()\n",
    "        self.reset_coords()\n",
    "        return seconds\n",
    "\n",
    "    def reset_coords(self) -> None:\n",
    "        self.x = 0\n",
    "        self.y = 0\n",
    "\n",
    "    def plot_walk(self) -> None:\n",
    "        points = [(0, 0)]\n",
    "        seconds = 0\n",
    "        while (abs(self.x) < 20) and (abs(self.y) < 20):\n",
    "            seconds += 1\n",
    "            self.move()\n",
    "            points.append((self.x, self.y))\n",
    "        plt.plot([p[0] for p in points], [p[1] for p in points])\n",
    "        plt.suptitle(f\"{seconds=}\")\n",
    "        self.reset_coords()"
   ]
  },
  {
   "cell_type": "code",
   "execution_count": 84,
   "metadata": {},
   "outputs": [
    {
     "data": {
      "text/plain": [
       "(array([6.243e+03, 2.469e+03, 7.940e+02, 3.560e+02, 9.300e+01, 2.700e+01,\n",
       "        1.100e+01, 5.000e+00, 0.000e+00, 2.000e+00]),\n",
       " array([ 2. ,  4.9,  7.8, 10.7, 13.6, 16.5, 19.4, 22.3, 25.2, 28.1, 31. ]),\n",
       " <BarContainer object of 10 artists>)"
      ]
     },
     "execution_count": 84,
     "metadata": {},
     "output_type": "execute_result"
    },
    {
     "data": {
      "image/png": "[encoded data removed]",
      "text/plain": [
       "<Figure size 432x288 with 1 Axes>"
      ]
     },
     "metadata": {
      "needs_background": "light"
     },
     "output_type": "display_data"
    }
   ],
   "source": [
    "import numpy as np\n",
    "\n",
    "ant = Ant()\n",
    "num_repeats = int(1e4)\n",
    "\n",
    "times = np.array([ant.time_to_food() for _ in range(num_repeats)])\n",
    "plt.hist(times)"
   ]
  },
  {
   "cell_type": "code",
   "execution_count": 81,
   "metadata": {},
   "outputs": [
    {
     "name": "stdout",
     "output_type": "stream",
     "text": [
      "mean=4.504\n",
      "variance=8.438\n",
      "stdev=2.905\n"
     ]
    }
   ],
   "source": [
    "mean = np.mean(times)\n",
    "variance = np.sum((times - mean) ** 2) / num_repeats\n",
    "stdev = np.sqrt(variance)\n",
    "\n",
    "print(f\"{mean=:.3f}\\n{variance=:.3f}\\n{stdev=:.3f}\")"
   ]
  }
 ],
 "metadata": {
  "kernelspec": {
   "display_name": "Python 3.10.4 ('kaggle')",
   "language": "python",
   "name": "python3"
  },
  "language_info": {
   "codemirror_mode": {
    "name": "ipython",
    "version": 3
   },
   "file_extension": ".py",
   "mimetype": "text/x-python",
   "name": "python",
   "nbconvert_exporter": "python",
   "pygments_lexer": "ipython3",
   "version": "3.10.4"
  },
  "orig_nbformat": 4,
  "vscode": {
   "interpreter": {
    "hash": "322eec173d61d90e6abc7c2798a62763adfc1f2be87cfc5776c3d17ae1dd4c1b"
   }
  }
 },
 "nbformat": 4,
 "nbformat_minor": 2
}
