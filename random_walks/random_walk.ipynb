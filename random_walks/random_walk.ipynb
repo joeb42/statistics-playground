{
 "cells": [
  {
   "cell_type": "markdown",
   "metadata": {},
   "source": [
    "# The problem \n",
    "An ant leaves its anthill in order to forage for food. It moves with the speed of 10cm per second, but it doesn't know where to go, therefore every second it moves randomly 10cm directly north, south, east or west with equal probability.\n",
    "\n",
    "1. If the food is located on east-west lines 20cm to the north and 20cm to the south, as well as on north-south lines 20cm to the east and 20cm to the west from the anthill, how long will it take the ant to reach it on average?\n",
    "\n",
    "2. What is the average time the ant will reach food if it is located only on a diagonal line passing through (10cm, 0cm) and (0cm, 10cm) points?\n",
    "\n",
    "3. Can you write a program that comes up with an estimate of average time to find food for any closed boundary around the anthill? What would be the answer if food is located outside an defined by $((x – 2.5cm) / 30cm )^{2} + ( (y – 2.5cm) / 40cm )^{2} < 1$ in coordinate system where the anthill is located at (x = 0cm, y = 0cm)?\n",
    "\n"
   ]
  },
  {
   "cell_type": "markdown",
   "metadata": {},
   "source": [
    "# Random Walk Background\n",
    "## One Dimension\n",
    "### Expectation and Variance\n",
    "Consider the ant is moving along a straight line (e.g. the x axis). At each time step the ant either moves in the positive or negative x direction with equal probability.\n",
    "Considering just the first timestep $t^{0}$ it is easy to see that the expectation of the position at $t^{1}$ is given by $E(x^{1} = x_{i}) = \\sum_{i}^{1} x_i p_i = 0$, where $x_i \\in {-1, +1}$ and $p_0 = p_1 = 0.5$. Similarly it can be shown that $var(x^{1}) = 1, \\implies \\sigma(x^{1}) = 1$.\n",
    "Now generalising to the nth timestep we have that $E(x^{n}) = \\sum_{j=0}^{n} E(x^{j}) = 0$. Using the definition of variance: $var(x) = E(x^{2}) - E(x)^2$ we can see that $var(x^{n}) = n \\implies \\sigma(x^{n}) = \\sqrt{n}$.\n",
    "Now let's consider the one dimensional analogue to our two dimensional problem, what is the expectated number of timesteps for our ant to reach either +20cm or -20 cm? Clearly for reaching +/- 10cm this always happens on the first timestep. "
   ]
  },
  {
   "cell_type": "code",
   "execution_count": 27,
   "metadata": {},
   "outputs": [],
   "source": [
    "from numpy.random import default_rng\n",
    "import matplotlib.pyplot as plt\n",
    "\n",
    "\n",
    "class Ant:\n",
    "    def __init__(self) -> None:\n",
    "        self.x: int = 0\n",
    "        self.y: int = 0\n",
    "        self.rng = default_rng()\n",
    "\n",
    "    def move(self) -> None:\n",
    "        move = self.rng.choice([\"N\", \"E\", \"S\", \"W\"])\n",
    "        if move == \"N\":\n",
    "            self.y += 10\n",
    "        if move == \"S\":\n",
    "            self.y -= 10\n",
    "        if move == \"E\":\n",
    "            self.x += 10\n",
    "        if move == \"W\":\n",
    "            self.x -= 10\n",
    "\n",
    "    def at_food(self) -> bool:\n",
    "        return (abs(self.x) >= 20) or (abs(self.y) >= 20)\n",
    "\n",
    "    def time_to_food(self) -> int:\n",
    "        seconds = 0\n",
    "        while not self.at_food():\n",
    "            seconds += 1\n",
    "            self.move()\n",
    "        self.reset_coords()\n",
    "        return seconds\n",
    "\n",
    "    def reset_coords(self) -> None:\n",
    "        self.x = 0\n",
    "        self.y = 0\n",
    "\n",
    "    def plot_walk(self) -> None:\n",
    "        points = [(0, 0)]\n",
    "        seconds = 0\n",
    "        while not self.at_food():\n",
    "            seconds += 1\n",
    "            self.move()\n",
    "            points.append((self.x, self.y))\n",
    "        plt.plot([p[0] for p in points], [p[1] for p in points])\n",
    "        plt.suptitle(f\"{seconds=}\")\n",
    "        self.reset_coords()"
   ]
  },
  {
   "cell_type": "code",
   "execution_count": 28,
   "metadata": {},
   "outputs": [
    {
     "data": {
      "image/png": "[encoded data removed]",
      "text/plain": [
       "<Figure size 432x288 with 1 Axes>"
      ]
     },
     "metadata": {
      "needs_background": "light"
     },
     "output_type": "display_data"
    }
   ],
   "source": [
    "import numpy as np\n",
    "\n",
    "ant = Ant()\n",
    "num_repeats = int(1e5)\n",
    "\n",
    "times = np.array([ant.time_to_food() for _ in range(num_repeats)])\n",
    "plt.hist(times, density=True)\n",
    "plt.xlabel(\"Time to reach food (seconds)\")\n",
    "plt.ylabel(\"Frequency Density\")\n",
    "plt.show()"
   ]
  },
  {
   "cell_type": "code",
   "execution_count": 29,
   "metadata": {},
   "outputs": [
    {
     "name": "stdout",
     "output_type": "stream",
     "text": [
      "mean=4.498\n",
      "variance=8.247\n",
      "stdev=2.872\n"
     ]
    }
   ],
   "source": [
    "mean = np.mean(times)\n",
    "variance = np.sum((times - mean) ** 2) / num_repeats\n",
    "stdev = np.sqrt(variance)\n",
    "\n",
    "print(f\"{mean=:.3f}\\n{variance=:.3f}\\n{stdev=:.3f}\")"
   ]
  }
 ],
 "metadata": {
  "kernelspec": {
   "display_name": "Python 3.10.4 ('kaggle')",
   "language": "python",
   "name": "python3"
  },
  "language_info": {
   "codemirror_mode": {
    "name": "ipython",
    "version": 3
   },
   "file_extension": ".py",
   "mimetype": "text/x-python",
   "name": "python",
   "nbconvert_exporter": "python",
   "pygments_lexer": "ipython3",
   "version": "3.10.4"
  },
  "orig_nbformat": 4,
  "vscode": {
   "interpreter": {
    "hash": "322eec173d61d90e6abc7c2798a62763adfc1f2be87cfc5776c3d17ae1dd4c1b"
   }
  }
 },
 "nbformat": 4,
 "nbformat_minor": 2
}
